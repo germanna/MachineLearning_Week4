{
  "nbformat": 4,
  "nbformat_minor": 0,
  "metadata": {
    "colab": {
      "name": "Untitled1.ipynb",
      "provenance": []
    },
    "kernelspec": {
      "name": "python3",
      "display_name": "Python 3"
    },
    "language_info": {
      "name": "python"
    }
  },
  "cells": [
    {
      "cell_type": "markdown",
      "metadata": {
        "id": "hPFkQ6iO70vU"
      },
      "source": [
        "Scatterplot with multiple semantics\n",
        "\n"
      ]
    },
    {
      "cell_type": "code",
      "metadata": {
        "id": "VoZ2apys7Ym3"
      },
      "source": [
        "import seaborn as sns\n",
        "import matplotlib.pyplot as plt\n",
        "sns.set_theme(style=\"whitegrid\")\n",
        "\n",
        "diamonds = sns.load_dataset(\"diamonds\")\n",
        "\n",
        "f, ax = plt.subplots(figsize=(6.5, 6.5))\n",
        "sns.despine(f, left=True, bottom=True)\n",
        "clarity_ranking = [\"I1\", \"SI2\", \"SI1\", \"VS2\", \"VS1\", \"VVS2\", \"VVS1\", \"IF\"]\n",
        "sns.scatterplot(x=\"carat\", y=\"price\",\n",
        "                hue=\"clarity\", size=\"depth\",\n",
        "                palette=\"ch:r=-.2,d=.3_r\",\n",
        "                hue_order=clarity_ranking,\n",
        "                sizes=(1, 8), linewidth=0,\n",
        "                data=diamonds, ax=ax)"
      ],
      "execution_count": null,
      "outputs": []
    },
    {
      "cell_type": "markdown",
      "metadata": {
        "id": "7v36bILI8DmK"
      },
      "source": [
        "Anscombe’s quartet\n"
      ]
    },
    {
      "cell_type": "code",
      "metadata": {
        "id": "9WPlUE0U7z17"
      },
      "source": [
        "import seaborn as sns\n",
        "sns.set_theme(style=\"ticks\")\n",
        "\n",
        "df = sns.load_dataset(\"anscombe\")\n",
        "sns.lmplot(x=\"x\", y=\"y\", col=\"dataset\", hue=\"dataset\", data=df,\n",
        "           col_wrap=2, ci=None, palette=\"muted\", height=4,\n",
        "           scatter_kws={\"s\": 50, \"alpha\": 1})"
      ],
      "execution_count": null,
      "outputs": []
    },
    {
      "cell_type": "markdown",
      "metadata": {
        "id": "et3EwP1o8FCW"
      },
      "source": [
        "Timeseries plot with error bands\n"
      ]
    },
    {
      "cell_type": "code",
      "metadata": {
        "id": "88_8Zdts8JWc"
      },
      "source": [
        "import seaborn as sns\n",
        "sns.set_theme(style=\"darkgrid\")\n",
        "\n",
        "fmri = sns.load_dataset(\"fmri\")\n",
        "\n",
        "sns.lineplot(x=\"timepoint\", y=\"signal\",\n",
        "             hue=\"region\", style=\"event\",\n",
        "             data=fmri)"
      ],
      "execution_count": null,
      "outputs": []
    },
    {
      "cell_type": "markdown",
      "metadata": {
        "id": "HsmRIDlm8U2u"
      },
      "source": [
        "Facetting histograms by subsets of data\n"
      ]
    },
    {
      "cell_type": "code",
      "metadata": {
        "id": "UpQ3-rqR8Vis"
      },
      "source": [
        "import seaborn as sns\n",
        "\n",
        "sns.set_theme(style=\"darkgrid\")\n",
        "df = sns.load_dataset(\"penguins\")\n",
        "sns.displot(\n",
        "    df, x=\"flipper_length_mm\", col=\"species\", row=\"sex\",\n",
        "    binwidth=3, height=3, facet_kws=dict(margin_titles=True),\n",
        ")"
      ],
      "execution_count": null,
      "outputs": []
    },
    {
      "cell_type": "markdown",
      "metadata": {
        "id": "Zie-zu1z8qd9"
      },
      "source": [
        "Line plots on multiple facets\n"
      ]
    },
    {
      "cell_type": "code",
      "metadata": {
        "id": "jp90k75q8rRG"
      },
      "source": [
        "import seaborn as sns\n",
        "sns.set_theme(style=\"ticks\")\n",
        "\n",
        "dots = sns.load_dataset(\"dots\")\n",
        "palette = sns.color_palette(\"rocket_r\")\n",
        "sns.relplot(\n",
        "    data=dots,\n",
        "    x=\"time\", y=\"firing_rate\",\n",
        "    hue=\"coherence\", size=\"choice\", col=\"align\",\n",
        "    kind=\"line\", size_order=[\"T1\", \"T2\"], palette=palette,\n",
        "    height=5, aspect=.75, facet_kws=dict(sharex=False),\n",
        ")"
      ],
      "execution_count": null,
      "outputs": []
    },
    {
      "cell_type": "markdown",
      "metadata": {
        "id": "uUBHgiop88bj"
      },
      "source": [
        "Grouped barplots\n"
      ]
    },
    {
      "cell_type": "code",
      "metadata": {
        "id": "FlarPjRU8_Yv"
      },
      "source": [
        "import seaborn as sns\n",
        "sns.set_theme(style=\"whitegrid\")\n",
        "\n",
        "penguins = sns.load_dataset(\"penguins\")\n",
        "g = sns.catplot(\n",
        "    data=penguins, kind=\"bar\",\n",
        "    x=\"species\", y=\"body_mass_g\", hue=\"sex\",\n",
        "    ci=\"sd\", palette=\"dark\", alpha=.6, height=6\n",
        ")\n",
        "g.despine(left=True)\n",
        "g.set_axis_labels(\"\", \"Body mass (g)\")\n",
        "g.legend.set_title(\"\")"
      ],
      "execution_count": null,
      "outputs": []
    },
    {
      "cell_type": "markdown",
      "metadata": {
        "id": "8AxClgc39MRs"
      },
      "source": [
        "Grouped boxplots\n"
      ]
    },
    {
      "cell_type": "code",
      "metadata": {
        "id": "JJsXDmo59OEv"
      },
      "source": [
        "import seaborn as sns\n",
        "sns.set_theme(style=\"ticks\", palette=\"pastel\")\n",
        "\n",
        "tips = sns.load_dataset(\"tips\")\n",
        "\n",
        "sns.boxplot(x=\"day\", y=\"total_bill\",\n",
        "            hue=\"smoker\", palette=[\"m\", \"g\"],\n",
        "            data=tips)\n",
        "sns.despine(offset=10, trim=True)"
      ],
      "execution_count": null,
      "outputs": []
    },
    {
      "cell_type": "markdown",
      "metadata": {
        "id": "_HaAEHEM-Sak"
      },
      "source": [
        "Grouped violinplots with split violins\n"
      ]
    },
    {
      "cell_type": "code",
      "metadata": {
        "id": "ISoll1Ig-TS2"
      },
      "source": [
        "import seaborn as sns\n",
        "sns.set_theme(style=\"whitegrid\")\n",
        "tips = sns.load_dataset(\"tips\")\n",
        "sns.violinplot(data=tips, x=\"day\", y=\"total_bill\", hue=\"smoker\",\n",
        "               split=True, inner=\"quart\", linewidth=1,\n",
        "               palette={\"Yes\": \"b\", \"No\": \".85\"})\n",
        "sns.despine(left=True)"
      ],
      "execution_count": null,
      "outputs": []
    },
    {
      "cell_type": "markdown",
      "metadata": {
        "id": "kFMZ-Y2L-pUw"
      },
      "source": [
        "Scatterplot heatmap\n"
      ]
    },
    {
      "cell_type": "code",
      "metadata": {
        "id": "QrcPddsc-pwu"
      },
      "source": [
        "import seaborn as sns\n",
        "sns.set_theme(style=\"whitegrid\")\n",
        "\n",
        "df = sns.load_dataset(\"brain_networks\", header=[0, 1, 2], index_col=0)\n",
        "\n",
        "used_networks = [1, 5, 6, 7, 8, 12, 13, 17]\n",
        "used_columns = (df.columns\n",
        "                  .get_level_values(\"network\")\n",
        "                  .astype(int)\n",
        "                  .isin(used_networks))\n",
        "df = df.loc[:, used_columns]\n",
        "\n",
        "df.columns = df.columns.map(\"-\".join)\n",
        "corr_mat = df.corr().stack().reset_index(name=\"correlation\")\n",
        "g = sns.relplot(\n",
        "    data=corr_mat,\n",
        "    x=\"level_0\", y=\"level_1\", hue=\"correlation\", size=\"correlation\",\n",
        "    palette=\"vlag\", hue_norm=(-1, 1), edgecolor=\".7\",\n",
        "    height=10, sizes=(50, 250), size_norm=(-.2, .8),\n",
        ")\n",
        "g.set(xlabel=\"\", ylabel=\"\", aspect=\"equal\")\n",
        "g.despine(left=True, bottom=True)\n",
        "g.ax.margins(.02)\n",
        "for label in g.ax.get_xticklabels():\n",
        "    label.set_rotation(90)\n",
        "for artist in g.legend.legendHandles:\n",
        "    artist.set_edgecolor(\".7\")"
      ],
      "execution_count": null,
      "outputs": []
    },
    {
      "cell_type": "markdown",
      "metadata": {
        "id": "RM4vH-wO-0EJ"
      },
      "source": [
        "Hexbin plot with marginal distributions\n"
      ]
    },
    {
      "cell_type": "code",
      "metadata": {
        "id": "hRPLEy8E-0gh"
      },
      "source": [
        "import numpy as np\n",
        "import seaborn as sns\n",
        "sns.set_theme(style=\"ticks\")\n",
        "\n",
        "rs = np.random.RandomState(11)\n",
        "x = rs.gamma(2, size=1000)\n",
        "y = -.5 * x + rs.normal(size=1000)\n",
        "\n",
        "sns.jointplot(x=x, y=y, kind=\"hex\", color=\"#4CB391\")"
      ],
      "execution_count": null,
      "outputs": []
    },
    {
      "cell_type": "markdown",
      "metadata": {
        "id": "9xwxv0UW_lcR"
      },
      "source": [
        "Stacked histogram on a log scale\n"
      ]
    },
    {
      "cell_type": "code",
      "metadata": {
        "id": "xAkPXdBm_l4s"
      },
      "source": [
        "import seaborn as sns\n",
        "import matplotlib as mpl\n",
        "import matplotlib.pyplot as plt\n",
        "\n",
        "sns.set_theme(style=\"ticks\")\n",
        "\n",
        "diamonds = sns.load_dataset(\"diamonds\")\n",
        "\n",
        "f, ax = plt.subplots(figsize=(7, 5))\n",
        "sns.despine(f)\n",
        "\n",
        "sns.histplot(\n",
        "    diamonds,\n",
        "    x=\"price\", hue=\"cut\",\n",
        "    multiple=\"stack\",\n",
        "    palette=\"light:m_r\",\n",
        "    edgecolor=\".3\",\n",
        "    linewidth=.5,\n",
        "    log_scale=True,\n",
        ")\n",
        "ax.xaxis.set_major_formatter(mpl.ticker.ScalarFormatter())\n",
        "ax.set_xticks([500, 1000, 2000, 5000, 10000])"
      ],
      "execution_count": null,
      "outputs": []
    },
    {
      "cell_type": "markdown",
      "metadata": {
        "id": "gG1HHnhO_qiN"
      },
      "source": [
        "Horizontal boxplot with observations\n"
      ]
    },
    {
      "cell_type": "code",
      "metadata": {
        "id": "P_iC-zN4_q18"
      },
      "source": [
        "import seaborn as sns\n",
        "import matplotlib.pyplot as plt\n",
        "\n",
        "sns.set_theme(style=\"ticks\")\n",
        "\n",
        "f, ax = plt.subplots(figsize=(7, 6))\n",
        "ax.set_xscale(\"log\")\n",
        "planets = sns.load_dataset(\"planets\")\n",
        "sns.boxplot(x=\"distance\", y=\"method\", data=planets,\n",
        "            whis=[0, 100], width=.6, palette=\"vlag\")\n",
        "sns.stripplot(x=\"distance\", y=\"method\", data=planets,\n",
        "              size=4, color=\".3\", linewidth=0)\n",
        "ax.xaxis.grid(True)\n",
        "ax.set(ylabel=\"\")\n",
        "sns.despine(trim=True, left=True)"
      ],
      "execution_count": null,
      "outputs": []
    },
    {
      "cell_type": "markdown",
      "metadata": {
        "id": "sNA9OUqY_0qn"
      },
      "source": [
        "Conditional means with observations\n"
      ]
    },
    {
      "cell_type": "code",
      "metadata": {
        "id": "JoC9NmBR_1EU"
      },
      "source": [
        "import pandas as pd\n",
        "import seaborn as sns\n",
        "import matplotlib.pyplot as plt\n",
        "\n",
        "sns.set_theme(style=\"whitegrid\")\n",
        "iris = sns.load_dataset(\"iris\")\n",
        "\n",
        "iris = pd.melt(iris, \"species\", var_name=\"measurement\")\n",
        "\n",
        "f, ax = plt.subplots()\n",
        "sns.despine(bottom=True, left=True)\n",
        "\n",
        "sns.stripplot(x=\"value\", y=\"measurement\", hue=\"species\",\n",
        "              data=iris, dodge=True, alpha=.25, zorder=1)\n",
        "sns.pointplot(x=\"value\", y=\"measurement\", hue=\"species\",\n",
        "              data=iris, dodge=.8 - .8 / 3,\n",
        "              join=False, palette=\"dark\",\n",
        "              markers=\"d\", scale=.75, ci=None)\n",
        "handles, labels = ax.get_legend_handles_labels()\n",
        "ax.legend(handles[3:], labels[3:], title=\"species\",\n",
        "          handletextpad=0, columnspacing=1,\n",
        "          loc=\"lower right\", ncol=3, frameon=True)"
      ],
      "execution_count": null,
      "outputs": []
    },
    {
      "cell_type": "markdown",
      "metadata": {
        "id": "X21KiSsW__ls"
      },
      "source": [
        "Joint and marginal histograms\n"
      ]
    },
    {
      "cell_type": "code",
      "metadata": {
        "id": "ET5dd2jB__7s"
      },
      "source": [
        "import seaborn as sns\n",
        "sns.set_theme(style=\"ticks\")\n",
        "\n",
        "planets = sns.load_dataset(\"planets\")\n",
        "g = sns.JointGrid(data=planets, x=\"year\", y=\"distance\", marginal_ticks=True)\n",
        "\n",
        "g.ax_joint.set(yscale=\"log\")\n",
        "\n",
        "cax = g.figure.add_axes([.15, .55, .02, .2])\n",
        "\n",
        "g.plot_joint(\n",
        "    sns.histplot, discrete=(True, False),\n",
        "    cmap=\"light:#03012d\", pmax=.8, cbar=True, cbar_ax=cax\n",
        ")\n",
        "g.plot_marginals(sns.histplot, element=\"step\", color=\"#03012d\")"
      ],
      "execution_count": null,
      "outputs": []
    },
    {
      "cell_type": "markdown",
      "metadata": {
        "id": "HPK8720IAK_o"
      },
      "source": [
        "Joint kernel density estimate\n"
      ]
    },
    {
      "cell_type": "code",
      "metadata": {
        "id": "kd0e0nXjAKq7"
      },
      "source": [
        "import seaborn as sns\n",
        "sns.set_theme(style=\"ticks\")\n",
        "\n",
        "penguins = sns.load_dataset(\"penguins\")\n",
        "\n",
        "g = sns.jointplot(\n",
        "    data=penguins,\n",
        "    x=\"bill_length_mm\", y=\"bill_depth_mm\", hue=\"species\",\n",
        "    kind=\"kde\",\n",
        ")"
      ],
      "execution_count": null,
      "outputs": []
    },
    {
      "cell_type": "markdown",
      "metadata": {
        "id": "Dqbkwas2AdjJ"
      },
      "source": [
        "Overlapping densities (‘ridge plot’)\n"
      ]
    },
    {
      "cell_type": "code",
      "metadata": {
        "id": "0msJSjKOAcpM"
      },
      "source": [
        "import numpy as np\n",
        "import pandas as pd\n",
        "import seaborn as sns\n",
        "import matplotlib.pyplot as plt\n",
        "sns.set_theme(style=\"white\", rc={\"axes.facecolor\": (0, 0, 0, 0)})\n",
        "\n",
        "rs = np.random.RandomState(1979)\n",
        "x = rs.randn(500)\n",
        "g = np.tile(list(\"ABCDEFGHIJ\"), 50)\n",
        "df = pd.DataFrame(dict(x=x, g=g))\n",
        "m = df.g.map(ord)\n",
        "df[\"x\"] += m\n",
        "pal = sns.cubehelix_palette(10, rot=-.25, light=.7)\n",
        "g = sns.FacetGrid(df, row=\"g\", hue=\"g\", aspect=15, height=.5, palette=pal)\n",
        "\n",
        "g.map(sns.kdeplot, \"x\",\n",
        "      bw_adjust=.5, clip_on=False,\n",
        "      fill=True, alpha=1, linewidth=1.5)\n",
        "g.map(sns.kdeplot, \"x\", clip_on=False, color=\"w\", lw=2, bw_adjust=.5)\n",
        "\n",
        "g.refline(y=0, linewidth=2, linestyle=\"-\", color=None, clip_on=False)\n",
        "def label(x, color, label):\n",
        "    ax = plt.gca()\n",
        "    ax.text(0, .2, label, fontweight=\"bold\", color=color,\n",
        "            ha=\"left\", va=\"center\", transform=ax.transAxes)\n",
        "\n",
        "\n",
        "g.map(label, \"x\")\n",
        "\n",
        "g.figure.subplots_adjust(hspace=-.25)\n",
        "\n",
        "g.set_titles(\"\")\n",
        "g.set(yticks=[], ylabel=\"\")\n",
        "g.despine(bottom=True, left=True)"
      ],
      "execution_count": null,
      "outputs": []
    },
    {
      "cell_type": "markdown",
      "metadata": {
        "id": "WL-fGfQFAnHk"
      },
      "source": [
        "Plotting large distributions\n"
      ]
    },
    {
      "cell_type": "code",
      "metadata": {
        "id": "a9Bu5hRvAowI"
      },
      "source": [
        "import seaborn as sns\n",
        "sns.set_theme(style=\"whitegrid\")\n",
        "\n",
        "diamonds = sns.load_dataset(\"diamonds\")\n",
        "clarity_ranking = [\"I1\", \"SI2\", \"SI1\", \"VS2\", \"VS1\", \"VVS2\", \"VVS1\", \"IF\"]\n",
        "\n",
        "sns.boxenplot(x=\"clarity\", y=\"carat\",\n",
        "              color=\"b\", order=clarity_ranking,\n",
        "              scale=\"linear\", data=diamonds)"
      ],
      "execution_count": null,
      "outputs": []
    },
    {
      "cell_type": "markdown",
      "metadata": {
        "id": "hufe3O_4AvMX"
      },
      "source": [
        "Bivariate plot with multiple elements\n"
      ]
    },
    {
      "cell_type": "code",
      "metadata": {
        "id": "RDnNilt2AwCv"
      },
      "source": [
        "import numpy as np\n",
        "import seaborn as sns\n",
        "import matplotlib.pyplot as plt\n",
        "sns.set_theme(style=\"dark\")\n",
        "\n",
        "n = 10000\n",
        "mean = [0, 0]\n",
        "cov = [(2, .4), (.4, .2)]\n",
        "rng = np.random.RandomState(0)\n",
        "x, y = rng.multivariate_normal(mean, cov, n).T\n",
        "f, ax = plt.subplots(figsize=(6, 6))\n",
        "sns.scatterplot(x=x, y=y, s=5, color=\".15\")\n",
        "sns.histplot(x=x, y=y, bins=50, pthresh=.1, cmap=\"mako\")\n",
        "sns.kdeplot(x=x, y=y, levels=5, color=\"w\", linewidths=1)"
      ],
      "execution_count": null,
      "outputs": []
    },
    {
      "cell_type": "markdown",
      "metadata": {
        "id": "TJoXZdNsA2Q_"
      },
      "source": [
        "Faceted logistic regression\n"
      ]
    },
    {
      "cell_type": "code",
      "metadata": {
        "id": "w9UZzOaJA2o2"
      },
      "source": [
        "import seaborn as sns\n",
        "sns.set_theme(style=\"darkgrid\")\n",
        "\n",
        "df = sns.load_dataset(\"titanic\")\n",
        "pal = dict(male=\"#6495ED\", female=\"#F08080\")\n",
        "\n",
        "g = sns.lmplot(x=\"age\", y=\"survived\", col=\"sex\", hue=\"sex\", data=df,\n",
        "               palette=pal, y_jitter=.02, logistic=True, truncate=False)\n",
        "g.set(xlim=(0, 80), ylim=(-.05, 1.05))"
      ],
      "execution_count": null,
      "outputs": []
    },
    {
      "cell_type": "markdown",
      "metadata": {
        "id": "T7wJB-3IA9Lb"
      },
      "source": [
        "Plotting on a large number of facets\n"
      ]
    },
    {
      "cell_type": "code",
      "metadata": {
        "id": "li9zLtZ0A9it"
      },
      "source": [
        "import numpy as np\n",
        "import pandas as pd\n",
        "import seaborn as sns\n",
        "import matplotlib.pyplot as plt\n",
        "\n",
        "sns.set_theme(style=\"ticks\")\n",
        "\n",
        "rs = np.random.RandomState(4)\n",
        "pos = rs.randint(-1, 2, (20, 5)).cumsum(axis=1)\n",
        "pos -= pos[:, 0, np.newaxis]\n",
        "step = np.tile(range(5), 20)\n",
        "walk = np.repeat(range(20), 5)\n",
        "df = pd.DataFrame(np.c_[pos.flat, step, walk],\n",
        "                  columns=[\"position\", \"step\", \"walk\"])\n",
        "\n",
        "grid = sns.FacetGrid(df, col=\"walk\", hue=\"walk\", palette=\"tab20c\",\n",
        "                     col_wrap=4, height=1.5)\n",
        "\n",
        "grid.refline(y=0, linestyle=\":\")\n",
        "\n",
        "grid.map(plt.plot, \"step\", \"position\", marker=\"o\")\n",
        "\n",
        "grid.set(xticks=np.arange(5), yticks=[-3, 3],\n",
        "         xlim=(-.5, 4.5), ylim=(-3.5, 3.5))\n",
        "\n",
        "grid.fig.tight_layout(w_pad=1)"
      ],
      "execution_count": null,
      "outputs": []
    },
    {
      "cell_type": "code",
      "metadata": {
        "id": "tjZJ2mtN1iw0"
      },
      "source": [
        "import numpy as np\n",
        "import pandas as pd\n",
        "import seaborn as sns\n",
        "import matplotlib.pyplot as plt\n",
        "\n",
        "sns.set_theme(style=\"ticks\")\n",
        "\n",
        "rs = np.random.RandomState(4)\n",
        "pos = rs.randint(-1, 2, (20, 5)).cumsum(axis=1)\n",
        "pos -= pos[:, 0, np.newaxis]\n",
        "step = np.tile(range(5), 20)\n",
        "walk = np.repeat(range(20), 5)\n",
        "df = pd.DataFrame(np.c_[pos.flat, step, walk],\n",
        "                  columns=[\"position\", \"step\", \"walk\"])\n",
        "\n",
        "grid = sns.FacetGrid(df, col=\"walk\", hue=\"walk\", palette=\"tab20c\",\n",
        "                     col_wrap=4, height=1.5)\n",
        "\n",
        "grid.refline(y=0, linestyle=\":\")\n",
        "\n",
        "grid.map(plt.plot, \"step\", \"position\", marker=\"o\")\n",
        "\n",
        "grid.set(xticks=np.arange(5), yticks=[-3, 3],\n",
        "         xlim=(-.5, 4.5), ylim=(-3.5, 3.5))\n",
        "\n",
        "grid.fig.tight_layout(w_pad=1)"
      ],
      "execution_count": null,
      "outputs": []
    },
    {
      "cell_type": "markdown",
      "metadata": {
        "id": "-XGBLor7BEhY"
      },
      "source": [
        "Plotting a diagonal correlation matrix\n"
      ]
    },
    {
      "cell_type": "code",
      "metadata": {
        "id": "K-FiSlPbBD3J"
      },
      "source": [
        "from string import ascii_letters\n",
        "import numpy as np\n",
        "import pandas as pd\n",
        "import seaborn as sns\n",
        "import matplotlib.pyplot as plt\n",
        "\n",
        "sns.set_theme(style=\"white\")\n",
        "\n",
        "rs = np.random.RandomState(33)\n",
        "d = pd.DataFrame(data=rs.normal(size=(100, 26)),\n",
        "                 columns=list(ascii_letters[26:]))\n",
        "corr = d.corr()\n",
        "\n",
        "mask = np.triu(np.ones_like(corr, dtype=bool))\n",
        "\n",
        "f, ax = plt.subplots(figsize=(11, 9))\n",
        "\n",
        "cmap = sns.diverging_palette(230, 20, as_cmap=True)\n",
        "\n",
        "sns.heatmap(corr, mask=mask, cmap=cmap, vmax=.3, center=0,\n",
        "            square=True, linewidths=.5, cbar_kws={\"shrink\": .5})"
      ],
      "execution_count": null,
      "outputs": []
    },
    {
      "cell_type": "markdown",
      "metadata": {
        "id": "k2X-D2MsBRhm"
      },
      "source": [
        "Scatterplot with marginal ticks\n"
      ]
    },
    {
      "cell_type": "code",
      "metadata": {
        "id": "1pUbtfnJBR4R"
      },
      "source": [
        "import seaborn as sns\n",
        "sns.set_theme(style=\"white\", color_codes=True)\n",
        "mpg = sns.load_dataset(\"mpg\")\n",
        "\n",
        "g = sns.JointGrid(data=mpg, x=\"mpg\", y=\"acceleration\", space=0, ratio=17)\n",
        "g.plot_joint(sns.scatterplot, size=mpg[\"horsepower\"], sizes=(30, 120),\n",
        "             color=\"g\", alpha=.6, legend=False)\n",
        "g.plot_marginals(sns.rugplot, height=1, color=\"g\", alpha=.6)"
      ],
      "execution_count": null,
      "outputs": []
    },
    {
      "cell_type": "markdown",
      "metadata": {
        "id": "jFHqdgKjBWbF"
      },
      "source": [
        "Multiple bivariate KDE plots\n"
      ]
    },
    {
      "cell_type": "code",
      "metadata": {
        "id": "vHU4Fbh5BWwR"
      },
      "source": [
        "import seaborn as sns\n",
        "import matplotlib.pyplot as plt\n",
        "\n",
        "sns.set_theme(style=\"darkgrid\")\n",
        "iris = sns.load_dataset(\"iris\")\n",
        "\n",
        "f, ax = plt.subplots(figsize=(8, 8))\n",
        "ax.set_aspect(\"equal\")\n",
        "\n",
        "sns.kdeplot(\n",
        "    data=iris.query(\"species != 'versicolor'\"),\n",
        "    x=\"sepal_width\",\n",
        "    y=\"sepal_length\",\n",
        "    hue=\"species\",\n",
        "    thresh=.1,\n",
        ")"
      ],
      "execution_count": null,
      "outputs": []
    },
    {
      "cell_type": "markdown",
      "metadata": {
        "id": "27FkJ2diBdyW"
      },
      "source": [
        "Conditional kernel density estimate\n"
      ]
    },
    {
      "cell_type": "code",
      "metadata": {
        "id": "WzKg8fzaBeLG"
      },
      "source": [
        "import seaborn as sns\n",
        "sns.set_theme(style=\"whitegrid\")\n",
        "\n",
        "diamonds = sns.load_dataset(\"diamonds\")\n",
        "\n",
        "sns.displot(\n",
        "    data=diamonds,\n",
        "    x=\"carat\", hue=\"cut\",\n",
        "    kind=\"kde\", height=6,\n",
        "    multiple=\"fill\", clip=(0, None),\n",
        "    palette=\"ch:rot=-.25,hue=1,light=.75\",\n",
        ")"
      ],
      "execution_count": null,
      "outputs": []
    },
    {
      "cell_type": "markdown",
      "metadata": {
        "id": "a6XBrjCvBlL9"
      },
      "source": [
        "Facetted ECDF plots\n"
      ]
    },
    {
      "cell_type": "code",
      "metadata": {
        "id": "9i_l4vi0Bl-S"
      },
      "source": [
        "import seaborn as sns\n",
        "sns.set_theme(style=\"ticks\")\n",
        "mpg = sns.load_dataset(\"mpg\")\n",
        "\n",
        "colors = (250, 70, 50), (350, 70, 50)\n",
        "cmap = sns.blend_palette(colors, input=\"husl\", as_cmap=True)\n",
        "sns.displot(\n",
        "    mpg,\n",
        "    x=\"displacement\", col=\"origin\", hue=\"model_year\",\n",
        "    kind=\"ecdf\", aspect=.75, linewidth=2, palette=cmap,\n",
        ")"
      ],
      "execution_count": null,
      "outputs": []
    },
    {
      "cell_type": "markdown",
      "metadata": {
        "id": "U5cTLM4OBqJe"
      },
      "source": [
        "Multiple linear regression\n"
      ]
    },
    {
      "cell_type": "code",
      "metadata": {
        "id": "8zdtgF27BqjA"
      },
      "source": [
        "import seaborn as sns\n",
        "sns.set_theme()\n",
        "\n",
        "penguins = sns.load_dataset(\"penguins\")\n",
        "\n",
        "g = sns.lmplot(\n",
        "    data=penguins,\n",
        "    x=\"bill_length_mm\", y=\"bill_depth_mm\", hue=\"species\",\n",
        "    height=5\n",
        ")\n",
        "\n",
        "g.set_axis_labels(\"Snoot length (mm)\", \"Snoot depth (mm)\")"
      ],
      "execution_count": null,
      "outputs": []
    },
    {
      "cell_type": "markdown",
      "metadata": {
        "id": "KENEs6V4Bxgd"
      },
      "source": [
        "Paired density and scatterplot matrix\n"
      ]
    },
    {
      "cell_type": "code",
      "metadata": {
        "id": "jgNpwta2Bx5C"
      },
      "source": [
        "import seaborn as sns\n",
        "sns.set_theme(style=\"white\")\n",
        "\n",
        "df = sns.load_dataset(\"penguins\")\n",
        "\n",
        "g = sns.PairGrid(df, diag_sharey=False)\n",
        "g.map_upper(sns.scatterplot, s=15)\n",
        "g.map_lower(sns.kdeplot)\n",
        "g.map_diag(sns.kdeplot, lw=2)"
      ],
      "execution_count": null,
      "outputs": []
    },
    {
      "cell_type": "markdown",
      "metadata": {
        "id": "22EGpRVqB339"
      },
      "source": [
        "Paired categorical plots\n"
      ]
    },
    {
      "cell_type": "code",
      "metadata": {
        "id": "ikrm3oCsB4Kf"
      },
      "source": [
        "import seaborn as sns\n",
        "sns.set_theme(style=\"whitegrid\")\n",
        "\n",
        "titanic = sns.load_dataset(\"titanic\")\n",
        "\n",
        "g = sns.PairGrid(titanic, y_vars=\"survived\",\n",
        "                 x_vars=[\"class\", \"sex\", \"who\", \"alone\"],\n",
        "                 height=5, aspect=.5)\n",
        "\n",
        "g.map(sns.pointplot, scale=1.3, errwidth=4, color=\"xkcd:plum\")\n",
        "g.set(ylim=(0, 1))\n",
        "sns.despine(fig=g.fig, left=True)"
      ],
      "execution_count": null,
      "outputs": []
    },
    {
      "cell_type": "markdown",
      "metadata": {
        "id": "-F-dShq8B9UX"
      },
      "source": [
        "Dot plot with several variables\n"
      ]
    },
    {
      "cell_type": "code",
      "metadata": {
        "id": "ISFLJbHoB9sa"
      },
      "source": [
        "import seaborn as sns\n",
        "sns.set_theme(style=\"whitegrid\")\n",
        "\n",
        "crashes = sns.load_dataset(\"car_crashes\")\n",
        "\n",
        "g = sns.PairGrid(crashes.sort_values(\"total\", ascending=False),\n",
        "                 x_vars=crashes.columns[:-3], y_vars=[\"abbrev\"],\n",
        "                 height=10, aspect=.25)\n",
        "\n",
        "g.map(sns.stripplot, size=10, orient=\"h\", jitter=False,\n",
        "      palette=\"flare_r\", linewidth=1, edgecolor=\"w\")\n",
        "\n",
        "g.set(xlim=(0, 25), xlabel=\"Crashes\", ylabel=\"\")\n",
        "\n",
        "titles = [\"Total crashes\", \"Speeding crashes\", \"Alcohol crashes\",\n",
        "          \"Not distracted crashes\", \"No previous crashes\"]\n",
        "\n",
        "for ax, title in zip(g.axes.flat, titles):\n",
        "\n",
        "    ax.set(title=title)\n",
        "\n",
        "    ax.xaxis.grid(False)\n",
        "    ax.yaxis.grid(True)\n",
        "\n",
        "sns.despine(left=True, bottom=True)"
      ],
      "execution_count": null,
      "outputs": []
    },
    {
      "cell_type": "markdown",
      "metadata": {
        "id": "4qaEwE8lCFzk"
      },
      "source": [
        "Color palette choices\n"
      ]
    },
    {
      "cell_type": "code",
      "metadata": {
        "id": "OP3yB0uECGZL"
      },
      "source": [
        "import numpy as np\n",
        "import seaborn as sns\n",
        "import matplotlib.pyplot as plt\n",
        "sns.set_theme(style=\"white\", context=\"talk\")\n",
        "rs = np.random.RandomState(8)\n",
        "\n",
        "f, (ax1, ax2, ax3) = plt.subplots(3, 1, figsize=(7, 5), sharex=True)\n",
        "\n",
        "x = np.array(list(\"ABCDEFGHIJ\"))\n",
        "y1 = np.arange(1, 11)\n",
        "sns.barplot(x=x, y=y1, palette=\"rocket\", ax=ax1)\n",
        "ax1.axhline(0, color=\"k\", clip_on=False)\n",
        "ax1.set_ylabel(\"Sequential\")\n",
        "\n",
        "y2 = y1 - 5.5\n",
        "sns.barplot(x=x, y=y2, palette=\"vlag\", ax=ax2)\n",
        "ax2.axhline(0, color=\"k\", clip_on=False)\n",
        "ax2.set_ylabel(\"Diverging\")\n",
        "\n",
        "y3 = rs.choice(y1, len(y1), replace=False)\n",
        "sns.barplot(x=x, y=y3, palette=\"deep\", ax=ax3)\n",
        "ax3.axhline(0, color=\"k\", clip_on=False)\n",
        "ax3.set_ylabel(\"Qualitative\")\n",
        "\n",
        "sns.despine(bottom=True)\n",
        "plt.setp(f.axes, yticks=[])\n",
        "plt.tight_layout(h_pad=2)"
      ],
      "execution_count": null,
      "outputs": []
    },
    {
      "cell_type": "markdown",
      "metadata": {
        "id": "oQAyUBbaCQRg"
      },
      "source": [
        "Different cubehelix palettes\n"
      ]
    },
    {
      "cell_type": "code",
      "metadata": {
        "id": "jtnjTFbOCQv9"
      },
      "source": [
        "import numpy as np\n",
        "import seaborn as sns\n",
        "import matplotlib.pyplot as plt\n",
        "\n",
        "sns.set_theme(style=\"white\")\n",
        "rs = np.random.RandomState(50)\n",
        "\n",
        "f, axes = plt.subplots(3, 3, figsize=(9, 9), sharex=True, sharey=True)\n",
        "\n",
        "for ax, s in zip(axes.flat, np.linspace(0, 3, 10)):\n",
        "\n",
        "    cmap = sns.cubehelix_palette(start=s, light=1, as_cmap=True)\n",
        "\n",
        "    x, y = rs.normal(size=(2, 50))\n",
        "    sns.kdeplot(\n",
        "        x=x, y=y,\n",
        "        cmap=cmap, fill=True,\n",
        "        clip=(-5, 5), cut=10,\n",
        "        thresh=0, levels=15,\n",
        "        ax=ax,\n",
        "    )\n",
        "    ax.set_axis_off()\n",
        "\n",
        "ax.set(xlim=(-3.5, 3.5), ylim=(-3.5, 3.5))\n",
        "f.subplots_adjust(0, 0, 1, 1, .08, .08)"
      ],
      "execution_count": null,
      "outputs": []
    },
    {
      "cell_type": "markdown",
      "metadata": {
        "id": "lSS-s3wzCZfM"
      },
      "source": [
        "Horizontal bar plots\n"
      ]
    },
    {
      "cell_type": "code",
      "metadata": {
        "id": "Xk5x9KOxCZ_2"
      },
      "source": [
        "import seaborn as sns\n",
        "import matplotlib.pyplot as plt\n",
        "sns.set_theme(style=\"whitegrid\")\n",
        "\n",
        "f, ax = plt.subplots(figsize=(6, 15))\n",
        "\n",
        "crashes = sns.load_dataset(\"car_crashes\").sort_values(\"total\", ascending=False)\n",
        "\n",
        "sns.set_color_codes(\"pastel\")\n",
        "sns.barplot(x=\"total\", y=\"abbrev\", data=crashes,\n",
        "            label=\"Total\", color=\"b\")\n",
        "\n",
        "sns.set_color_codes(\"muted\")\n",
        "sns.barplot(x=\"alcohol\", y=\"abbrev\", data=crashes,\n",
        "            label=\"Alcohol-involved\", color=\"b\")\n",
        "\n",
        "ax.legend(ncol=2, loc=\"lower right\", frameon=True)\n",
        "ax.set(xlim=(0, 24), ylabel=\"\",\n",
        "       xlabel=\"Automobile collisions per billion miles\")\n",
        "sns.despine(left=True, bottom=True)"
      ],
      "execution_count": null,
      "outputs": []
    },
    {
      "cell_type": "markdown",
      "metadata": {
        "id": "p2Mk27VACgAN"
      },
      "source": [
        "Plotting a three-way ANOVA\n"
      ]
    },
    {
      "cell_type": "code",
      "metadata": {
        "id": "-1D8CUEOCgao"
      },
      "source": [
        "import seaborn as sns\n",
        "sns.set_theme(style=\"whitegrid\")\n",
        "\n",
        "df = sns.load_dataset(\"exercise\")\n",
        "\n",
        "g = sns.catplot(x=\"time\", y=\"pulse\", hue=\"kind\", col=\"diet\",\n",
        "                capsize=.2, palette=\"YlGnBu_d\", height=6, aspect=.75,\n",
        "                kind=\"point\", data=df)\n",
        "g.despine(left=True)"
      ],
      "execution_count": null,
      "outputs": []
    },
    {
      "cell_type": "markdown",
      "metadata": {
        "id": "hlkaqbvNCmKN"
      },
      "source": [
        "FacetGrid with custom projection\n"
      ]
    },
    {
      "cell_type": "code",
      "metadata": {
        "id": "tF-VwRR3CmqC"
      },
      "source": [
        "import numpy as np\n",
        "import pandas as pd\n",
        "import seaborn as sns\n",
        "\n",
        "sns.set_theme()\n",
        "\n",
        "r = np.linspace(0, 10, num=100)\n",
        "df = pd.DataFrame({'r': r, 'slow': r, 'medium': 2 * r, 'fast': 4 * r})\n",
        "\n",
        "df = pd.melt(df, id_vars=['r'], var_name='speed', value_name='theta')\n",
        "\n",
        "g = sns.FacetGrid(df, col=\"speed\", hue=\"speed\",\n",
        "                  subplot_kws=dict(projection='polar'), height=4.5,\n",
        "                  sharex=False, sharey=False, despine=False)\n",
        "\n",
        "g.map(sns.scatterplot, \"theta\", \"r\")"
      ],
      "execution_count": null,
      "outputs": []
    },
    {
      "cell_type": "markdown",
      "metadata": {
        "id": "kgXJoLf1C5E5"
      },
      "source": [
        "Linear regression with marginal distributions\n"
      ]
    },
    {
      "cell_type": "code",
      "metadata": {
        "id": "75bPcttHC5nY"
      },
      "source": [
        "import seaborn as sns\n",
        "sns.set_theme(style=\"darkgrid\")\n",
        "\n",
        "tips = sns.load_dataset(\"tips\")\n",
        "g = sns.jointplot(x=\"total_bill\", y=\"tip\", data=tips,\n",
        "                  kind=\"reg\", truncate=False,\n",
        "                  xlim=(0, 60), ylim=(0, 12),\n",
        "                  color=\"m\", height=7)"
      ],
      "execution_count": null,
      "outputs": []
    },
    {
      "cell_type": "markdown",
      "metadata": {
        "id": "N53HA_sNDAb2"
      },
      "source": [
        "Plotting model residuals\n"
      ]
    },
    {
      "cell_type": "code",
      "metadata": {
        "id": "xK26ki_GDA37"
      },
      "source": [
        "import numpy as np\n",
        "import seaborn as sns\n",
        "sns.set_theme(style=\"whitegrid\")\n",
        "\n",
        "rs = np.random.RandomState(7)\n",
        "x = rs.normal(2, 1, 75)\n",
        "y = 2 + 1.5 * x + rs.normal(0, 2, 75)\n",
        "\n",
        "sns.residplot(x=x, y=y, lowess=True, color=\"g\")"
      ],
      "execution_count": null,
      "outputs": []
    },
    {
      "cell_type": "markdown",
      "metadata": {
        "id": "QakVsaAkDO5Y"
      },
      "source": [
        "Scatterplot with varying point sizes and hues\n"
      ]
    },
    {
      "cell_type": "code",
      "metadata": {
        "id": "peQ1-HjxDPW8"
      },
      "source": [
        "import seaborn as sns\n",
        "sns.set_theme(style=\"white\")\n",
        "\n",
        "mpg = sns.load_dataset(\"mpg\")\n",
        "\n",
        "sns.relplot(x=\"horsepower\", y=\"mpg\", hue=\"origin\", size=\"weight\",\n",
        "            sizes=(40, 400), alpha=.5, palette=\"muted\",\n",
        "            height=6, data=mpg)"
      ],
      "execution_count": null,
      "outputs": []
    },
    {
      "cell_type": "markdown",
      "metadata": {
        "id": "8lelFS6YDTyg"
      },
      "source": [
        "Scatterplot with categorical variables\n"
      ]
    },
    {
      "cell_type": "code",
      "metadata": {
        "id": "_VmQrr0FDUKq"
      },
      "source": [
        "import seaborn as sns\n",
        "sns.set_theme(style=\"whitegrid\", palette=\"muted\")\n",
        "\n",
        "df = sns.load_dataset(\"penguins\")\n",
        "\n",
        "ax = sns.swarmplot(data=df, x=\"body_mass_g\", y=\"sex\", hue=\"species\")\n",
        "ax.set(ylabel=\"\")"
      ],
      "execution_count": null,
      "outputs": []
    },
    {
      "cell_type": "markdown",
      "metadata": {
        "id": "QIpAalOQDmwK"
      },
      "source": [
        "Scatterplot Matrix\n"
      ]
    },
    {
      "cell_type": "code",
      "metadata": {
        "id": "s8Fu5cezDnHq"
      },
      "source": [
        "import seaborn as sns\n",
        "sns.set_theme(style=\"ticks\")\n",
        "\n",
        "df = sns.load_dataset(\"penguins\")\n",
        "sns.pairplot(df, hue=\"species\")"
      ],
      "execution_count": null,
      "outputs": []
    },
    {
      "cell_type": "markdown",
      "metadata": {
        "id": "D1psQaBhDtuG"
      },
      "source": [
        "Scatterplot with continuous hues and sizes\n"
      ]
    },
    {
      "cell_type": "code",
      "metadata": {
        "colab": {
          "base_uri": "https://localhost:8080/",
          "height": 389
        },
        "id": "nfRqqEDuDuGY",
        "outputId": "01e843f0-7d85-4e0d-fe35-5d3a8b5e70d6"
      },
      "source": [
        "import seaborn as sns\n",
        "sns.set_theme(style=\"whitegrid\")\n",
        "planets = sns.load_dataset(\"planets\")\n",
        "\n",
        "cmap = sns.cubehelix_palette(rot=-.2, as_cmap=True)\n",
        "g = sns.relplot(\n",
        "    data=planets,\n",
        "    x=\"distance\", y=\"orbital_period\",\n",
        "    hue=\"year\", size=\"mass\",\n",
        "    palette=cmap, sizes=(10, 200),\n",
        ")\n",
        "g.set(xscale=\"log\", yscale=\"log\")\n",
        "g.ax.xaxis.grid(True, \"minor\", linewidth=.25)\n",
        "g.ax.yaxis.grid(True, \"minor\", linewidth=.25)\n",
        "g.despine(left=True, bottom=True)"
      ],
      "execution_count": 1,
      "outputs": [
        {
          "output_type": "execute_result",
          "data": {
            "text/plain": [
              "<seaborn.axisgrid.FacetGrid at 0x7fd746888710>"
            ]
          },
          "metadata": {},
          "execution_count": 1
        },
        {
          "output_type": "display_data",
          "data": {
            "image/png": "[encoded data removed]",
            "text/plain": [
              "<Figure size 429.975x360 with 1 Axes>"
            ]
          },
          "metadata": {}
        }
      ]
    },
    {
      "cell_type": "markdown",
      "metadata": {
        "id": "QojA5AtuDzQW"
      },
      "source": [
        "Violinplots with observations\n"
      ]
    },
    {
      "cell_type": "code",
      "metadata": {
        "id": "_QHwLZrSD0QT"
      },
      "source": [
        "import numpy as np\n",
        "import seaborn as sns\n",
        "\n",
        "sns.set_theme()\n",
        "\n",
        "rs = np.random.default_rng(0)\n",
        "n, p = 40, 8\n",
        "d = rs.normal(0, 2, (n, p))\n",
        "d += np.log(np.arange(1, p + 1)) * -5 + 10\n",
        "\n",
        "sns.violinplot(data=d, palette=\"light:g\", inner=\"points\", orient=\"h\")"
      ],
      "execution_count": null,
      "outputs": []
    },
    {
      "cell_type": "markdown",
      "metadata": {
        "id": "haSa9yHqD6nM"
      },
      "source": [
        "Smooth kernel density with marginal histograms\n"
      ]
    },
    {
      "cell_type": "code",
      "metadata": {
        "id": "k7k-_bsED7Ay"
      },
      "source": [
        "import seaborn as sns\n",
        "sns.set_theme(style=\"white\")\n",
        "\n",
        "df = sns.load_dataset(\"penguins\")\n",
        "\n",
        "g = sns.JointGrid(data=df, x=\"body_mass_g\", y=\"bill_depth_mm\", space=0)\n",
        "g.plot_joint(sns.kdeplot,\n",
        "             fill=True, clip=((2200, 6800), (10, 25)),\n",
        "             thresh=0, levels=100, cmap=\"rocket\")\n",
        "g.plot_marginals(sns.histplot, color=\"#03051A\", alpha=1, bins=25)"
      ],
      "execution_count": null,
      "outputs": []
    },
    {
      "cell_type": "markdown",
      "metadata": {
        "id": "nGMUYlWbD_H_"
      },
      "source": [
        "Annotated heatmaps\n"
      ]
    },
    {
      "cell_type": "code",
      "metadata": {
        "id": "RvapTaEYD_ia"
      },
      "source": [
        "import matplotlib.pyplot as plt\n",
        "import seaborn as sns\n",
        "sns.set_theme()\n",
        "\n",
        "flights_long = sns.load_dataset(\"flights\")\n",
        "flights = flights_long.pivot(\"month\", \"year\", \"passengers\")\n",
        "\n",
        "f, ax = plt.subplots(figsize=(9, 6))\n",
        "sns.heatmap(flights, annot=True, fmt=\"d\", linewidths=.5, ax=ax)"
      ],
      "execution_count": null,
      "outputs": []
    },
    {
      "cell_type": "markdown",
      "metadata": {
        "id": "sw2VrLyMEFFG"
      },
      "source": [
        "Discovering structure in heatmap data\n"
      ]
    },
    {
      "cell_type": "code",
      "metadata": {
        "id": "k_uXqR1cEFeb"
      },
      "source": [
        "import pandas as pd\n",
        "import seaborn as sns\n",
        "sns.set_theme()\n",
        "\n",
        "df = sns.load_dataset(\"brain_networks\", header=[0, 1, 2], index_col=0)\n",
        "\n",
        "used_networks = [1, 5, 6, 7, 8, 12, 13, 17]\n",
        "used_columns = (df.columns.get_level_values(\"network\")\n",
        "                          .astype(int)\n",
        "                          .isin(used_networks))\n",
        "df = df.loc[:, used_columns]\n",
        "\n",
        "network_pal = sns.husl_palette(8, s=.45)\n",
        "network_lut = dict(zip(map(str, used_networks), network_pal))\n",
        "\n",
        "networks = df.columns.get_level_values(\"network\")\n",
        "network_colors = pd.Series(networks, index=df.columns).map(network_lut)\n",
        "\n",
        "g = sns.clustermap(df.corr(), center=0, cmap=\"vlag\",\n",
        "                   row_colors=network_colors, col_colors=network_colors,\n",
        "                   dendrogram_ratio=(.1, .2),\n",
        "                   cbar_pos=(.02, .32, .03, .2),\n",
        "                   linewidths=.75, figsize=(12, 13))\n",
        "\n",
        "g.ax_row_dendrogram.remove()"
      ],
      "execution_count": null,
      "outputs": []
    },
    {
      "cell_type": "markdown",
      "metadata": {
        "id": "feHqEjFJEM4-"
      },
      "source": [
        "Trivariate histogram with two categorical variables\n"
      ]
    },
    {
      "cell_type": "code",
      "metadata": {
        "id": "llpB11C_ENT1"
      },
      "source": [
        "import seaborn as sns\n",
        "sns.set_theme(style=\"dark\")\n",
        "\n",
        "diamonds = sns.load_dataset(\"diamonds\")\n",
        "sns.displot(\n",
        "    data=diamonds, x=\"price\", y=\"color\", col=\"clarity\",\n",
        "    log_scale=(True, False), col_wrap=4, height=4, aspect=.7,\n",
        ")"
      ],
      "execution_count": null,
      "outputs": []
    },
    {
      "cell_type": "markdown",
      "metadata": {
        "id": "angQuy7aESII"
      },
      "source": [
        "Small multiple time series\n"
      ]
    },
    {
      "cell_type": "code",
      "metadata": {
        "id": "vJ-IKg7pESqQ"
      },
      "source": [
        "import seaborn as sns\n",
        "\n",
        "sns.set_theme(style=\"dark\")\n",
        "flights = sns.load_dataset(\"flights\")\n",
        "\n",
        "g = sns.relplot(\n",
        "    data=flights,\n",
        "    x=\"month\", y=\"passengers\", col=\"year\", hue=\"year\",\n",
        "    kind=\"line\", palette=\"crest\", linewidth=4, zorder=5,\n",
        "    col_wrap=3, height=2, aspect=1.5, legend=False,\n",
        ")\n",
        "\n",
        "for year, ax in g.axes_dict.items():\n",
        "\n",
        "    ax.text(.8, .85, year, transform=ax.transAxes, fontweight=\"bold\")\n",
        "\n",
        "    sns.lineplot(\n",
        "        data=flights, x=\"month\", y=\"passengers\", units=\"year\",\n",
        "        estimator=None, color=\".7\", linewidth=1, ax=ax,\n",
        "    )\n",
        "\n",
        "ax.set_xticks(ax.get_xticks()[::2])\n",
        "\n",
        "g.set_titles(\"\")\n",
        "g.set_axis_labels(\"\", \"Passengers\")\n",
        "g.tight_layout()"
      ],
      "execution_count": null,
      "outputs": []
    },
    {
      "cell_type": "markdown",
      "metadata": {
        "id": "Js6gGh8xFPH4"
      },
      "source": [
        "Lineplot from a wide-form dataset\n"
      ]
    },
    {
      "cell_type": "code",
      "metadata": {
        "id": "BJ49jRzTFPio"
      },
      "source": [
        "import numpy as np\n",
        "import pandas as pd\n",
        "import seaborn as sns\n",
        "sns.set_theme(style=\"whitegrid\")\n",
        "\n",
        "rs = np.random.RandomState(365)\n",
        "values = rs.randn(365, 4).cumsum(axis=0)\n",
        "dates = pd.date_range(\"1 1 2016\", periods=365, freq=\"D\")\n",
        "data = pd.DataFrame(values, dates, columns=[\"A\", \"B\", \"C\", \"D\"])\n",
        "data = data.rolling(7).mean()\n",
        "\n",
        "sns.lineplot(data=data, palette=\"tab10\", linewidth=2.5)"
      ],
      "execution_count": null,
      "outputs": []
    },
    {
      "cell_type": "markdown",
      "metadata": {
        "id": "sFPXMV0mFaZy"
      },
      "source": [
        "Violinplot from a wide-form dataset\n"
      ]
    },
    {
      "cell_type": "code",
      "metadata": {
        "id": "B6xzT88_Fa2Z"
      },
      "source": [
        "import seaborn as sns\n",
        "import matplotlib.pyplot as plt\n",
        "sns.set_theme(style=\"whitegrid\")\n",
        "\n",
        "df = sns.load_dataset(\"brain_networks\", header=[0, 1, 2], index_col=0)\n",
        "\n",
        "used_networks = [1, 3, 4, 5, 6, 7, 8, 11, 12, 13, 16, 17]\n",
        "used_columns = (df.columns.get_level_values(\"network\")\n",
        "                          .astype(int)\n",
        "                          .isin(used_networks))\n",
        "df = df.loc[:, used_columns]\n",
        "\n",
        "corr_df = df.corr().groupby(level=\"network\").mean()\n",
        "corr_df.index = corr_df.index.astype(int)\n",
        "corr_df = corr_df.sort_index().T\n",
        "\n",
        "f, ax = plt.subplots(figsize=(11, 6))\n",
        "\n",
        "sns.violinplot(data=corr_df, palette=\"Set3\", bw=.2, cut=1, linewidth=1)\n",
        "ax.set(ylim=(-.7, 1.05))\n",
        "sns.despine(left=True, bottom=True)"
      ],
      "execution_count": null,
      "outputs": []
    }
  ]
}